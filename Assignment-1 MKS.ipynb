{
 "cells": [
  {
   "cell_type": "code",
   "execution_count": 28,
   "metadata": {},
   "outputs": [
    {
     "name": "stdout",
     "output_type": "stream",
     "text": [
      "{3073, 2562, 2051, 3080, 2569, 2058, 3087, 2576, 2065, 3094, 2583, 2072, 3101, 2590, 2079, 3108, 2597, 2086, 3115, 2604, 2093, 3122, 2611, 3129, 2618, 2107, 3136, 2114, 3143, 2632, 2121, 2639, 2128, 3157, 2646, 2135, 3164, 2653, 2142, 3171, 2660, 2149, 3178, 2667, 2156, 3185, 2674, 2163, 3192, 2681, 2170, 3199, 2688, 2177, 2695, 2184, 2702, 2191, 2709, 2198, 2716, 2205, 2723, 2212, 2730, 2219, 2737, 2226, 2744, 2233, 2751, 2240, 2758, 2247, 2765, 2254, 2772, 2261, 2779, 2268, 2786, 2793, 2282, 2289, 2807, 2296, 2814, 2303, 2821, 2310, 2828, 2317, 2835, 2324, 2842, 2331, 2849, 2338, 2856, 2345, 2863, 2352, 2870, 2359, 2877, 2366, 2884, 2373, 2891, 2380, 2898, 2387, 2905, 2394, 2912, 2401, 2919, 2408, 2926, 2415, 2933, 2422, 2940, 2429, 2947, 2436, 2954, 2443, 2961, 2968, 2457, 2464, 2982, 2471, 2989, 2478, 2996, 2485, 3003, 2492, 3010, 2499, 3017, 2506, 3024, 2513, 2002, 3031, 2520, 2009, 3038, 2527, 2016, 3045, 2534, 2023, 3052, 2541, 2030, 3059, 2548, 2037, 3066, 2555, 2044}\n"
     ]
    }
   ],
   "source": [
    "#:-Mukesh Kumar Sanodiya\n",
    "#:-26-Nov-2018\n",
    "#:-Q2.Write a program which will find all such numbers which are divisible by 7 but are not a\n",
    "     #multiple of 5, between 2000 and 3200 (both included). The numbers obtained should be printed\n",
    "     #in a comma-separated sequence on a single line\n",
    "        \n",
    "R1=2000\n",
    "Rn=3200\n",
    "OPSET =set()\n",
    "for x in range(R1, Rn):\n",
    "  if (x%7)==0:\n",
    "        y=x/5\n",
    "        if (y%5)!=0:\n",
    "            OPSET.add(x)\n",
    "print(OPSET)            \n",
    "            "
   ]
  },
  {
   "cell_type": "code",
   "execution_count": 29,
   "metadata": {},
   "outputs": [
    {
     "name": "stdout",
     "output_type": "stream",
     "text": [
      "Please Enter Your First Name :Mukesh Kumar\n",
      "Please Enter Your Last Name :Sanodiya\n",
      "Sanodiya Mukesh Kumar\n"
     ]
    }
   ],
   "source": [
    "#:-Mukesh Kumar Sanodiya\n",
    "#:-26-Nov-2018\n",
    "#:-Q3.Write a Python program to accept the user's first and last name and then getting them printed\n",
    "        #in the the reverse order with a space between first name and last name.\n",
    "        \n",
    "firstname=input(\"Please Enter Your First Name :\")\n",
    "lastname=input(\"Please Enter Your Last Name :\")\n",
    "FullnameReverse=(lastname + \" \" + firstname)\n",
    "print(FullnameReverse)\n",
    "\n",
    "\n"
   ]
  },
  {
   "cell_type": "code",
   "execution_count": 30,
   "metadata": {},
   "outputs": [
    {
     "name": "stdout",
     "output_type": "stream",
     "text": [
      "904.32\n"
     ]
    }
   ],
   "source": [
    "#:-Mukesh Kumar Sanodiya\n",
    "#:-26-Nov-2018\n",
    "#:-Q4.Write a Python program to find the volume of a sphere with diameter 12 cm.\n",
    "        #Formula: V=4/3 * π * r 3\n",
    "    \n",
    "PAI=round(22/7,2)\n",
    "Diameter=12\n",
    "Radius=Diameter/2\n",
    "Volume =round(((4/3)*PAI)*(Radius**3),2)\n",
    "print (Volume)"
   ]
  },
  {
   "cell_type": "code",
   "execution_count": null,
   "metadata": {},
   "outputs": [],
   "source": []
  },
  {
   "cell_type": "code",
   "execution_count": null,
   "metadata": {},
   "outputs": [],
   "source": []
  },
  {
   "cell_type": "code",
   "execution_count": null,
   "metadata": {},
   "outputs": [],
   "source": []
  },
  {
   "cell_type": "code",
   "execution_count": null,
   "metadata": {},
   "outputs": [],
   "source": []
  },
  {
   "cell_type": "code",
   "execution_count": null,
   "metadata": {},
   "outputs": [],
   "source": []
  },
  {
   "cell_type": "code",
   "execution_count": null,
   "metadata": {},
   "outputs": [],
   "source": []
  },
  {
   "cell_type": "code",
   "execution_count": null,
   "metadata": {},
   "outputs": [],
   "source": []
  }
 ],
 "metadata": {
  "kernelspec": {
   "display_name": "Python 3",
   "language": "python",
   "name": "python3"
  },
  "language_info": {
   "codemirror_mode": {
    "name": "ipython",
    "version": 3
   },
   "file_extension": ".py",
   "mimetype": "text/x-python",
   "name": "python",
   "nbconvert_exporter": "python",
   "pygments_lexer": "ipython3",
   "version": "3.7.0"
  }
 },
 "nbformat": 4,
 "nbformat_minor": 2
}
